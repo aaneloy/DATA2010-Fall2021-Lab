{
 "cells": [
  {
   "cell_type": "markdown",
   "id": "2b3bda2a",
   "metadata": {},
   "source": [
    "## Data Analysis Practise using basic Pandas and Numpy"
   ]
  },
  {
   "cell_type": "markdown",
   "id": "ecc50c78",
   "metadata": {},
   "source": [
    "``` Basic Data Analysis using the \"IRIS\" dataset. Complete each cell and compare your ouput with the one provided after each cell. Instructions are given to guide your analysis```"
   ]
  },
  {
   "cell_type": "markdown",
   "id": "50ae1afc",
   "metadata": {},
   "source": [
    "# Importing dataset"
   ]
  },
  {
   "cell_type": "code",
   "execution_count": 6,
   "id": "66efa352",
   "metadata": {},
   "outputs": [
    {
     "data": {
      "text/html": [
       "<div>\n",
       "<style scoped>\n",
       "    .dataframe tbody tr th:only-of-type {\n",
       "        vertical-align: middle;\n",
       "    }\n",
       "\n",
       "    .dataframe tbody tr th {\n",
       "        vertical-align: top;\n",
       "    }\n",
       "\n",
       "    .dataframe thead th {\n",
       "        text-align: right;\n",
       "    }\n",
       "</style>\n",
       "<table border=\"1\" class=\"dataframe\">\n",
       "  <thead>\n",
       "    <tr style=\"text-align: right;\">\n",
       "      <th></th>\n",
       "      <th>sepal_length</th>\n",
       "      <th>sepal_width</th>\n",
       "      <th>petal_length</th>\n",
       "      <th>petal_width</th>\n",
       "      <th>species</th>\n",
       "    </tr>\n",
       "  </thead>\n",
       "  <tbody>\n",
       "    <tr>\n",
       "      <th>0</th>\n",
       "      <td>5.1</td>\n",
       "      <td>3.5</td>\n",
       "      <td>1.4</td>\n",
       "      <td>0.2</td>\n",
       "      <td>Setosa</td>\n",
       "    </tr>\n",
       "    <tr>\n",
       "      <th>1</th>\n",
       "      <td>4.9</td>\n",
       "      <td>3.0</td>\n",
       "      <td>1.4</td>\n",
       "      <td>0.2</td>\n",
       "      <td>Setosa</td>\n",
       "    </tr>\n",
       "    <tr>\n",
       "      <th>2</th>\n",
       "      <td>4.7</td>\n",
       "      <td>3.2</td>\n",
       "      <td>1.3</td>\n",
       "      <td>0.2</td>\n",
       "      <td>Setosa</td>\n",
       "    </tr>\n",
       "    <tr>\n",
       "      <th>3</th>\n",
       "      <td>4.6</td>\n",
       "      <td>3.1</td>\n",
       "      <td>1.5</td>\n",
       "      <td>0.2</td>\n",
       "      <td>Setosa</td>\n",
       "    </tr>\n",
       "    <tr>\n",
       "      <th>4</th>\n",
       "      <td>5.0</td>\n",
       "      <td>3.6</td>\n",
       "      <td>1.4</td>\n",
       "      <td>0.2</td>\n",
       "      <td>Setosa</td>\n",
       "    </tr>\n",
       "    <tr>\n",
       "      <th>...</th>\n",
       "      <td>...</td>\n",
       "      <td>...</td>\n",
       "      <td>...</td>\n",
       "      <td>...</td>\n",
       "      <td>...</td>\n",
       "    </tr>\n",
       "    <tr>\n",
       "      <th>145</th>\n",
       "      <td>6.7</td>\n",
       "      <td>3.0</td>\n",
       "      <td>5.2</td>\n",
       "      <td>2.3</td>\n",
       "      <td>Virginica</td>\n",
       "    </tr>\n",
       "    <tr>\n",
       "      <th>146</th>\n",
       "      <td>6.3</td>\n",
       "      <td>2.5</td>\n",
       "      <td>5.0</td>\n",
       "      <td>1.9</td>\n",
       "      <td>Virginica</td>\n",
       "    </tr>\n",
       "    <tr>\n",
       "      <th>147</th>\n",
       "      <td>6.5</td>\n",
       "      <td>3.0</td>\n",
       "      <td>5.2</td>\n",
       "      <td>2.0</td>\n",
       "      <td>Virginica</td>\n",
       "    </tr>\n",
       "    <tr>\n",
       "      <th>148</th>\n",
       "      <td>6.2</td>\n",
       "      <td>3.4</td>\n",
       "      <td>5.4</td>\n",
       "      <td>2.3</td>\n",
       "      <td>Virginica</td>\n",
       "    </tr>\n",
       "    <tr>\n",
       "      <th>149</th>\n",
       "      <td>5.9</td>\n",
       "      <td>3.0</td>\n",
       "      <td>5.1</td>\n",
       "      <td>1.8</td>\n",
       "      <td>Virginica</td>\n",
       "    </tr>\n",
       "  </tbody>\n",
       "</table>\n",
       "<p>150 rows × 5 columns</p>\n",
       "</div>"
      ],
      "text/plain": [
       "     sepal_length  sepal_width  petal_length  petal_width    species\n",
       "0             5.1          3.5           1.4          0.2     Setosa\n",
       "1             4.9          3.0           1.4          0.2     Setosa\n",
       "2             4.7          3.2           1.3          0.2     Setosa\n",
       "3             4.6          3.1           1.5          0.2     Setosa\n",
       "4             5.0          3.6           1.4          0.2     Setosa\n",
       "..            ...          ...           ...          ...        ...\n",
       "145           6.7          3.0           5.2          2.3  Virginica\n",
       "146           6.3          2.5           5.0          1.9  Virginica\n",
       "147           6.5          3.0           5.2          2.0  Virginica\n",
       "148           6.2          3.4           5.4          2.3  Virginica\n",
       "149           5.9          3.0           5.1          1.8  Virginica\n",
       "\n",
       "[150 rows x 5 columns]"
      ]
     },
     "execution_count": 6,
     "metadata": {},
     "output_type": "execute_result"
    }
   ],
   "source": [
    "import pandas as pd\n",
    "\n",
    "iris_data = pd.read_csv('iris.csv')\n",
    "iris_data"
   ]
  },
  {
   "cell_type": "markdown",
   "id": "dfe430f4",
   "metadata": {},
   "source": [
    "# Importing relevant libraries"
   ]
  },
  {
   "cell_type": "code",
   "execution_count": 8,
   "id": "474df204",
   "metadata": {},
   "outputs": [],
   "source": [
    "import pandas as pd\n",
    "import numpy as np\n",
    "import matplotlib.pyplot as plt\n",
    "import seaborn as sns\n",
    "from sklearn import metrics\n",
    "sns.set()"
   ]
  },
  {
   "cell_type": "markdown",
   "id": "6ac2d54f",
   "metadata": {},
   "source": [
    "# Gaining information from data\n",
    "\n",
    "![The output should look like this](1.png \"The output should look like this\")"
   ]
  },
  {
   "cell_type": "code",
   "execution_count": 7,
   "id": "abd07bf9",
   "metadata": {},
   "outputs": [],
   "source": [
    "#Complete the cell"
   ]
  },
  {
   "cell_type": "markdown",
   "id": "1bfd9cbb",
   "metadata": {},
   "source": [
    "# Data Insights:\n",
    "1. All columns are not having any Null Entries\n",
    "2. Four columns are numerical type\n",
    "3. Only Single column categorical type"
   ]
  },
  {
   "cell_type": "markdown",
   "id": "8fb4b6fe",
   "metadata": {},
   "source": [
    "# Statistical Insight"
   ]
  },
  {
   "cell_type": "code",
   "execution_count": 9,
   "id": "9181592a",
   "metadata": {},
   "outputs": [],
   "source": [
    "#Complete the cell"
   ]
  },
  {
   "cell_type": "markdown",
   "id": "0fdef2eb",
   "metadata": {},
   "source": [
    "# Checking For Duplicate Entries"
   ]
  },
  {
   "cell_type": "code",
   "execution_count": null,
   "id": "e77fcc08",
   "metadata": {},
   "outputs": [],
   "source": [
    "#Complete the cell"
   ]
  },
  {
   "cell_type": "markdown",
   "id": "7a9af1f9",
   "metadata": {},
   "source": [
    "# Checking the no of counts"
   ]
  },
  {
   "cell_type": "code",
   "execution_count": null,
   "id": "712e8ea7",
   "metadata": {},
   "outputs": [],
   "source": [
    "#Complete the cell"
   ]
  },
  {
   "cell_type": "markdown",
   "id": "19e99370",
   "metadata": {},
   "source": [
    "# Data Visualization"
   ]
  },
  {
   "cell_type": "markdown",
   "id": "499f360d",
   "metadata": {},
   "source": [
    "## Species count"
   ]
  },
  {
   "cell_type": "code",
   "execution_count": 9,
   "id": "f50e3bdb",
   "metadata": {},
   "outputs": [
    {
     "data": {
      "text/plain": [
       "Versicolor    50\n",
       "Setosa        50\n",
       "Virginica     50\n",
       "Name: species, dtype: int64"
      ]
     },
     "execution_count": 9,
     "metadata": {},
     "output_type": "execute_result"
    }
   ],
   "source": [
    "iris['species'].value_counts()"
   ]
  },
  {
   "cell_type": "markdown",
   "id": "34a1b014",
   "metadata": {},
   "source": [
    "# Uni-variate Analysis\n",
    "Comparison between various species based on sepal length and width"
   ]
  },
  {
   "cell_type": "code",
   "execution_count": 11,
   "id": "9a47f4e1",
   "metadata": {},
   "outputs": [],
   "source": [
    "#Complete the cell"
   ]
  },
  {
   "cell_type": "markdown",
   "id": "f15d5dbb",
   "metadata": {},
   "source": [
    "## Comparison between various species based on petal length and width"
   ]
  },
  {
   "cell_type": "code",
   "execution_count": null,
   "id": "fd9453c5",
   "metadata": {},
   "outputs": [],
   "source": [
    "#Complete the cell"
   ]
  },
  {
   "cell_type": "markdown",
   "id": "b581f917",
   "metadata": {},
   "source": [
    "## Bi-variate Analysis"
   ]
  },
  {
   "cell_type": "code",
   "execution_count": null,
   "id": "884e4e09",
   "metadata": {},
   "outputs": [],
   "source": [
    "#Complete the cell"
   ]
  },
  {
   "cell_type": "markdown",
   "id": "497b8bfd",
   "metadata": {},
   "source": [
    "## Checking Correlation"
   ]
  },
  {
   "cell_type": "code",
   "execution_count": null,
   "id": "3917106e",
   "metadata": {},
   "outputs": [],
   "source": [
    "#Complete the cell"
   ]
  },
  {
   "cell_type": "markdown",
   "id": "074a601d",
   "metadata": {},
   "source": [
    "## Checking Mean & Median Values for each species"
   ]
  },
  {
   "cell_type": "code",
   "execution_count": null,
   "id": "aa3abb56",
   "metadata": {},
   "outputs": [],
   "source": [
    "#Complete the cell"
   ]
  },
  {
   "cell_type": "markdown",
   "id": "88dad522",
   "metadata": {},
   "source": [
    "## Box plots to know about distribution\n",
    "boxplot to see how the categorical feature “Species” is distributed with all other four input variables"
   ]
  },
  {
   "cell_type": "code",
   "execution_count": null,
   "id": "a27221ba",
   "metadata": {},
   "outputs": [],
   "source": [
    "#Complete the cell"
   ]
  },
  {
   "cell_type": "markdown",
   "id": "1b7f28bc",
   "metadata": {},
   "source": [
    "## Violin Plot for checking distribution\n",
    "The violin plot shows density of the length and width in the species. The thinner part denotes that there is less density whereas the fatter part conveys higher density"
   ]
  },
  {
   "cell_type": "code",
   "execution_count": null,
   "id": "199fddb8",
   "metadata": {},
   "outputs": [],
   "source": [
    "#Complete the cell"
   ]
  },
  {
   "cell_type": "markdown",
   "id": "7fb113d3",
   "metadata": {},
   "source": [
    "## Plotting the Histogram & Probability Density Function (PDF)\n",
    "plotting the probability density function(PDF) with each feature as a variable on X-axis and it’s histogram and corresponding kernel density plot on Y-axis."
   ]
  },
  {
   "cell_type": "code",
   "execution_count": null,
   "id": "1b0c9af5",
   "metadata": {},
   "outputs": [],
   "source": [
    "#Complete the cell"
   ]
  },
  {
   "cell_type": "markdown",
   "id": "5b2fd308",
   "metadata": {},
   "source": [
    "## Choosing Plot 3 (Classification feature as Petal Length)to distinguish among the species"
   ]
  },
  {
   "cell_type": "code",
   "execution_count": null,
   "id": "7e32293f",
   "metadata": {},
   "outputs": [],
   "source": [
    "#Complete the cell"
   ]
  }
 ],
 "metadata": {
  "kernelspec": {
   "display_name": "Python 3",
   "language": "python",
   "name": "python3"
  },
  "language_info": {
   "codemirror_mode": {
    "name": "ipython",
    "version": 3
   },
   "file_extension": ".py",
   "mimetype": "text/x-python",
   "name": "python",
   "nbconvert_exporter": "python",
   "pygments_lexer": "ipython3",
   "version": "3.6.13"
  }
 },
 "nbformat": 4,
 "nbformat_minor": 5
}
